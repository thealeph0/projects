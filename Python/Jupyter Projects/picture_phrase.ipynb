{
  "cells": [
    {
      "cell_type": "markdown",
      "metadata": {
        "id": "99AYF1X_RjRf"
      },
      "source": [
        "# Data Manipulation\n",
        "## Picture Phrase: NumPy Assignment\n",
        "#### Name:\n",
        "\n",
        "## Overview\n",
        "\n",
        "For this assignment, I took a picture with a specific phrase written on it and turned it into a NumPy array of RGB values.  I then transformed that array using a set of specific NumPy transformations.  It will be your task to transform the array back to the original by performing the same NumPy transformations.  In the end, you will reshape the array and show the corresponding image associated with it. Your notebook will then be uploaded to against the real image to check your results.\n",
        "\n",
        "### Important Details\n",
        "\n",
        "- Please make sure you follow all the steps <u>*in order*</u> or the picture may not be viewable and the question may be counted incorrect.  \n",
        "- Since these operations must be done in order, you MUST use the variable from the previous question when performing the operation. For example:\n",
        "\n",
        "   **SampleQ1:** Create a variable called SampleQ1 that is equal to 1.\n",
        "\n",
        "       SampleQ1 = 1\n",
        "\n",
        "   **SampleQ2:** Add 1.\n",
        "\n",
        "      SampleQ2 = SampleQ1 + 1\n",
        "\n",
        "   **SampleQ3:** Multiply by 2\n",
        "\n",
        "      SampleQ3 = SampleQ2 * 2\n",
        "      \n",
        "- To prevent creating views of the array where you might inadvertently change an earlier array without knowing it, we have included code in most questions to create a copy of the previous array.  [See this link for more information on views vs copies.](https://www.w3schools.com/python/numpy/numpy_copy_vs_view.asp#:~:text=The%20main%20difference%20between%20a,will%20not%20affect%20the%20copy.)\n",
        "- Make sure that your notebook is saved with the name `picture_phrase` before submitting.\n"
      ]
    },
    {
      "cell_type": "markdown",
      "metadata": {
        "id": "e5huM7cQRjRh"
      },
      "source": [
        "## Standard Imports"
      ]
    },
    {
      "cell_type": "code",
      "source": [],
      "metadata": {
        "id": "zRs4INFKTdcr"
      },
      "execution_count": null,
      "outputs": []
    },
    {
      "cell_type": "code",
      "execution_count": null,
      "metadata": {
        "id": "WJWYqAYbRjRi"
      },
      "outputs": [],
      "source": [
        "# load standard imports\n",
        "import numpy as np\n",
        "from matplotlib import pyplot as plt\n",
        "np.set_printoptions(suppress=True) #prevent numpy exponential"
      ]
    },
    {
      "cell_type": "markdown",
      "metadata": {
        "id": "nFKV8xgfRjRi"
      },
      "source": [
        "## Load Array"
      ]
    },
    {
      "cell_type": "code",
      "execution_count": null,
      "metadata": {
        "id": "5sAWO5zaRjRi"
      },
      "outputs": [],
      "source": [
        "# load image\n",
        "img = np.loadtxt('array.txt', dtype='U32')"
      ]
    },
    {
      "cell_type": "code",
      "execution_count": null,
      "metadata": {
        "id": "4PoWHOViRjRj"
      },
      "outputs": [],
      "source": [
        "# view array\n",
        "img"
      ]
    },
    {
      "cell_type": "markdown",
      "metadata": {
        "id": "ienX9deXRjRk"
      },
      "source": [
        "It doesn't look like it, but this array actually contains RGB values (albeit mixed up and transformed) for a picture. Let's check the shape of the data."
      ]
    },
    {
      "cell_type": "markdown",
      "metadata": {
        "id": "Sd9iA3qORjRk"
      },
      "source": [
        "## NumPy Exercises\n",
        "\n",
        "**Exercise:** What is the shape of the NumPy array?"
      ]
    },
    {
      "cell_type": "code",
      "execution_count": null,
      "metadata": {
        "id": "AivAvhkrRjRk"
      },
      "outputs": [],
      "source": [
        "img.shape"
      ]
    },
    {
      "cell_type": "markdown",
      "metadata": {
        "id": "VfmD6E67RjRk"
      },
      "source": [
        "Next, let's check the data type.\n",
        "\n",
        "**Exercise:** What is the data type for the array?"
      ]
    },
    {
      "cell_type": "code",
      "execution_count": null,
      "metadata": {
        "id": "l9exCtDxRjRk"
      },
      "outputs": [],
      "source": [
        "img.dtype"
      ]
    },
    {
      "cell_type": "markdown",
      "metadata": {
        "id": "W6dn32rERjRl"
      },
      "source": [
        "### Questions\n",
        "\n",
        "For the next tasks, save your output as the question number.  The first two have been done for you as examples."
      ]
    },
    {
      "cell_type": "markdown",
      "metadata": {
        "id": "pJXdrVYMRjRl"
      },
      "source": [
        "In order to perform mathematical operations on the data, we will need the values to be in a numerical format.\n",
        "\n",
        "**Q1:** Update the data type of `img` to `float64` and call it `Q1`."
      ]
    },
    {
      "cell_type": "code",
      "execution_count": null,
      "metadata": {
        "id": "7ENhp4i6RjRl"
      },
      "outputs": [],
      "source": [
        "# update `img` to float and call it Q1\n"
      ]
    },
    {
      "cell_type": "markdown",
      "metadata": {
        "id": "hp15-LUuRjRl"
      },
      "source": [
        "One of the key features of NumPy is its ability to perform mathematical operations on whole blocks of data. Let's look at some of these operations.\n",
        "\n",
        "**Q2:** Multiply each element in the `Q1` array by 10 and call this new array `Q2`."
      ]
    },
    {
      "cell_type": "code",
      "execution_count": null,
      "metadata": {
        "id": "AyJp_8uJRjRl"
      },
      "outputs": [],
      "source": [
        "# multiply each element by 10\n"
      ]
    },
    {
      "cell_type": "markdown",
      "metadata": {
        "id": "7AXbwcI-RjRl"
      },
      "source": [
        "**Q3:**\n",
        "    \n",
        "1. Create a NumPy array called `arr` of the following five values: 32, 54, 67, 88, 4\n",
        "    \n",
        "2. Use the NumPy's sum method to add all the values together and store as a variable called `total`.  Do not hard code the answer by manually adding the numbers in your head.  Use NumPy functions or you may be counted off during a review of the assignment.\n",
        "    \n",
        "3. Add this total to every element of the `Q2` array and call this new array `Q3`."
      ]
    },
    {
      "cell_type": "code",
      "execution_count": null,
      "metadata": {
        "id": "jLPQVjUrRjRm"
      },
      "outputs": [],
      "source": []
    },
    {
      "cell_type": "markdown",
      "metadata": {
        "id": "JxRaZzB4RjRm"
      },
      "source": [
        "**Q4:** Add the `Q3` array to itself (example: array + array) and call it `Q4`. This will add the corresponding values in each cell to each other."
      ]
    },
    {
      "cell_type": "code",
      "execution_count": null,
      "metadata": {
        "id": "wN1wEzz5RjRm"
      },
      "outputs": [],
      "source": []
    },
    {
      "cell_type": "markdown",
      "metadata": {
        "id": "56HXA5R1RjRm"
      },
      "source": [
        "**Q5:** Subtract 1 from the first item in the `Q4` array, 2 from the 2nd item, 3 from the 3rd item...n from the n<sup>th</sup> item and call the new array `Q5`. You should **not** do this using any type of loop as that wouldn't be efficient. Hint: Think about creating a second array that could be used in combination with the first array to complete the task."
      ]
    },
    {
      "cell_type": "code",
      "execution_count": null,
      "metadata": {
        "id": "AQDh2VEVRjRm"
      },
      "outputs": [],
      "source": []
    },
    {
      "cell_type": "markdown",
      "metadata": {
        "id": "JvBJkTc9RjRm"
      },
      "source": [
        "**Code Check:**  To check your code so far, the output of your `Q5` array should be:\n",
        "\n",
        "`array([ 340., 50176., 353.,..., 46225., 474., 124609.])`.  \n",
        "\n",
        "If your output does not match, go back and check your above steps."
      ]
    },
    {
      "cell_type": "markdown",
      "metadata": {
        "id": "Qfb0awyRRjRm"
      },
      "source": [
        "**Q6:** Copy the `Q5` array and call the new array `Q6` (this step makes sure that we are working with a copy instead of a view of the previous array). Update the 4th element in the `Q6` array to `46225`. <u>Careful</u>: Remember that Python is zero based index."
      ]
    },
    {
      "cell_type": "code",
      "execution_count": null,
      "metadata": {
        "id": "TUezDrhrRjRm"
      },
      "outputs": [],
      "source": [
        "# make a copy of the previous array\n"
      ]
    },
    {
      "cell_type": "markdown",
      "metadata": {
        "id": "tjBfKg4FRjRm"
      },
      "source": [
        "**Q7:** Copy the `Q6` array and call the new array `Q7`. Select the indices from `1,000` to `200,000` (including the element in the `200,000` index) and the indices from `400,000` to `600,000` (including the element in the `600,000` index) in `Q7` and add `255` to only those values.\n",
        "\n",
        "*Hint:* Remember that you can do this in two steps:\n",
        "- Step 1) Update the first set of indices\n",
        "- Step 2) Update the second set of indices.  \n",
        "- Also remember that Python is zero based index.  \n",
        "\n",
        "As an example, if I wanted to add `10` to the values in the indices from `100` to `110` (including the element in the `110` index) I could write my code as follows:\n",
        "```python\n",
        "arr[100:111] = arr[100:111] + 10  \n",
        "\n",
        "```"
      ]
    },
    {
      "cell_type": "code",
      "execution_count": null,
      "metadata": {
        "id": "6mIgTf9sRjRn"
      },
      "outputs": [],
      "source": [
        "# make a copy of the previous array\n"
      ]
    },
    {
      "cell_type": "markdown",
      "metadata": {
        "id": "w_Coie1yRjRn"
      },
      "source": [
        "**Code Check:**  To check your code, confirm the following output from `Q7`:\n",
        "```\n",
        "Q7[999] should equal 46225.0\n",
        "Q7[1000] should equal 349.0\n",
        "Q7[600000] should equal 341.0\n",
        "Q7[600001] should equal 50625.0\n",
        "```"
      ]
    },
    {
      "cell_type": "markdown",
      "metadata": {
        "id": "TtnPO7bPRjRn"
      },
      "source": [
        "**Q8:** Copy the `Q7` array and call the new array `Q8`.  Reshape the `Q8` array to a two-dimensional, two-column array."
      ]
    },
    {
      "cell_type": "code",
      "execution_count": null,
      "metadata": {
        "id": "TJT3fRiYRjRn"
      },
      "outputs": [],
      "source": [
        "# make a copy of the previous array\n"
      ]
    },
    {
      "cell_type": "markdown",
      "metadata": {
        "id": "4n4CL37kRjRn"
      },
      "source": [
        "**Q9:** Copy the `Q8` array and call the new array `Q9`.  Swap the two columns from this `Q9` array. In other words, the first column will now be the second and the second column will now be the first."
      ]
    },
    {
      "cell_type": "code",
      "execution_count": null,
      "metadata": {
        "id": "r1qPerNURjRn"
      },
      "outputs": [],
      "source": [
        "# make a copy of the previous array\n"
      ]
    },
    {
      "cell_type": "markdown",
      "metadata": {
        "id": "7n2TIp89RjRn"
      },
      "source": [
        "**Q10:** Copy the `Q9` array and call the new array `Q10`. Reverse the order of the rows of the `Q10` array."
      ]
    },
    {
      "cell_type": "code",
      "execution_count": null,
      "metadata": {
        "id": "04Rk9uLPRjRn"
      },
      "outputs": [],
      "source": [
        "# make a copy of the previous array\n"
      ]
    },
    {
      "cell_type": "markdown",
      "metadata": {
        "id": "EWDsWm6DRjRn"
      },
      "source": [
        "**Code Check:** To check your code, the output of `Q10` should be the following:\n",
        "\n",
        "```\n",
        "array([[124609.,    474.],\n",
        "       [ 46225.,    353.],\n",
        "       [ 50176.,    340.],\n",
        "       ...,\n",
        "       [ 51984.,    349.],\n",
        "       [ 46225.,    353.],\n",
        "       [ 50176.,    340.]])\n",
        "```\n",
        "\n",
        "If your output does not match, go back and review your previous steps."
      ]
    },
    {
      "cell_type": "markdown",
      "metadata": {
        "id": "SePvkI2tRjRo"
      },
      "source": [
        "**Q11:** Copy the `Q10` array and call it `Q11`. Set `Q11`'s 101st row as `[46225, 353]`. <u>Careful</u>: Remember that Python is zero based index"
      ]
    },
    {
      "cell_type": "code",
      "execution_count": null,
      "metadata": {
        "id": "6wJNXMNpRjRo"
      },
      "outputs": [],
      "source": [
        "# make a copy of the previous array\n"
      ]
    },
    {
      "cell_type": "markdown",
      "metadata": {
        "id": "hx8AzR8JRjRo"
      },
      "source": [
        "**Q12:** Copy the `Q11` array and call it `Q12`. Set the **first element** in `Q12's` 100,001st row to `46656`.  The second element in that row should remain unchanged. <u>Careful</u>: Remember that Python is zero based index"
      ]
    },
    {
      "cell_type": "code",
      "execution_count": null,
      "metadata": {
        "id": "jhlE-jseRjRo"
      },
      "outputs": [],
      "source": [
        "# make a copy of the previous array\n"
      ]
    },
    {
      "cell_type": "markdown",
      "metadata": {
        "id": "oTN2_OpqRjRp"
      },
      "source": [
        "**Q13:** Copy the `Q12` array and call it `Q13`. Subtract 125 from every element in the **second column** for `Q13`."
      ]
    },
    {
      "cell_type": "code",
      "execution_count": null,
      "metadata": {
        "id": "AwANmUFjRjRp"
      },
      "outputs": [],
      "source": [
        "# make a copy of the previous array\n"
      ]
    },
    {
      "cell_type": "markdown",
      "metadata": {
        "id": "IElyAhlrRjRp"
      },
      "source": [
        "**Q14:** Copy the `Q13` array and call it `Q14`. Take the square root of every element in the **first column** of `Q14`."
      ]
    },
    {
      "cell_type": "code",
      "execution_count": null,
      "metadata": {
        "id": "2Ci4oORFRjRp"
      },
      "outputs": [],
      "source": [
        "# make a copy of the previous array\n"
      ]
    },
    {
      "cell_type": "markdown",
      "metadata": {
        "id": "wcLR3K7fRjRq"
      },
      "source": [
        "**Code Check:** To check your code, the output of `Q14` should be:\n",
        "```\n",
        "array([[353., 349.],\n",
        "       [215., 228.],\n",
        "       [224., 215.],\n",
        "       ...,\n",
        "       [228., 224.],\n",
        "       [215., 228.],\n",
        "       [224., 215.]])\n",
        "```     \n",
        "If your output does not match, go back and review your previous steps."
      ]
    },
    {
      "cell_type": "markdown",
      "metadata": {
        "id": "KW2A7KKBRjRq"
      },
      "source": [
        "**Q15:** Copy the `Q14` array and call it `Q15`.  Change any value in the `Q15` array that is currently 999 and set it to 117."
      ]
    },
    {
      "cell_type": "code",
      "execution_count": null,
      "metadata": {
        "id": "2gHPqn9sRjRq"
      },
      "outputs": [],
      "source": [
        "# make a copy of the previous array\n"
      ]
    },
    {
      "cell_type": "markdown",
      "metadata": {
        "id": "2DQgNrLORjRq"
      },
      "source": [
        "**Q16:**\n",
        "1. Copy the `Q15` array and call it `Q16`.\n",
        "2. Take the transpose of the `Q16` array.\n",
        "3. Subtract 125 from the first column of all rows.\n",
        "4. Take the transpose of the array again (this puts it back in its original state) making sure that all the changes are saved as `Q16`."
      ]
    },
    {
      "cell_type": "code",
      "execution_count": null,
      "metadata": {
        "id": "PqPb-MvLRjRq"
      },
      "outputs": [],
      "source": [
        "# make a copy of the previous array\n"
      ]
    },
    {
      "cell_type": "markdown",
      "metadata": {
        "id": "lQwgZEOcRjRq"
      },
      "source": [
        "**Q17:** Copy the `Q16` array and call it `Q17`.  Reshape the `Q17` array to (423, 640, 3). Note: the 3 values in each row are the RGB values for every pixel of the picture."
      ]
    },
    {
      "cell_type": "code",
      "execution_count": null,
      "metadata": {
        "id": "a5xGNSzXRjRq"
      },
      "outputs": [],
      "source": [
        "# make a copy of the previous array\n"
      ]
    },
    {
      "cell_type": "markdown",
      "metadata": {
        "id": "X5nZBnkFRjRr"
      },
      "source": [
        "**Q18:** Copy the `Q17` array and call it `Q18`.  Cast the entire `Q18` array as an `int`."
      ]
    },
    {
      "cell_type": "code",
      "execution_count": null,
      "metadata": {
        "id": "ypej5xHSRjRr"
      },
      "outputs": [],
      "source": [
        "# make a copy of the previous array\n"
      ]
    },
    {
      "cell_type": "markdown",
      "metadata": {
        "id": "N8lnLwUoRjRr"
      },
      "source": [
        "**Q19:** Run the code below to plot your array below."
      ]
    },
    {
      "cell_type": "code",
      "execution_count": null,
      "metadata": {
        "id": "6-m-JzI2RjRr"
      },
      "outputs": [],
      "source": [
        "# create img variable to be used during plotting\n",
        "\n",
        "# plot image\n"
      ]
    },
    {
      "cell_type": "markdown",
      "metadata": {
        "id": "kxHt9BpDRjRr"
      },
      "source": [
        "**Q20:** Create a variable called `Q20` that is a string of the phrase in the picture (include punctuation but not the name of the author).  You can of course hard code this string."
      ]
    },
    {
      "cell_type": "code",
      "execution_count": null,
      "metadata": {
        "id": "Mb4c8GO9RjRr"
      },
      "outputs": [],
      "source": []
    }
  ],
  "metadata": {
    "kernelspec": {
      "display_name": "Python 3 (ipykernel)",
      "language": "python",
      "name": "python3"
    },
    "language_info": {
      "codemirror_mode": {
        "name": "ipython",
        "version": 3
      },
      "file_extension": ".py",
      "mimetype": "text/x-python",
      "name": "python",
      "nbconvert_exporter": "python",
      "pygments_lexer": "ipython3",
      "version": "3.9.13"
    },
    "colab": {
      "provenance": []
    }
  },
  "nbformat": 4,
  "nbformat_minor": 0
}